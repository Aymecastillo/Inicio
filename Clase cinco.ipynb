{
 "cells": [
  {
   "cell_type": "code",
   "execution_count": 1,
   "metadata": {
    "collapsed": true
   },
   "outputs": [],
   "source": [
    "from pylab import *\n",
    "%matplotlib inline\n",
    "\n"
   ]
  },
  {
   "cell_type": "code",
   "execution_count": null,
   "metadata": {
    "collapsed": true
   },
   "outputs": [],
   "source": [
    "#\\"
   ]
  },
  {
   "cell_type": "markdown",
   "metadata": {},
   "source": [
    "# Runge Kutta"
   ]
  },
  {
   "cell_type": "code",
   "execution_count": 14,
   "metadata": {},
   "outputs": [],
   "source": [
    "def rk4 (ec,p_ini,x,h=0.001):\n",
    "    if (x[1]-x[0]) <= 5.*h:\n",
    "        h= (x[1]-x[0])/10  # x es el dominio hasta donde vamos a integrar\n",
    "    tiempos=arange(x[0],x[1]+h,h)\n",
    "    sol= zeros((len (tiempos),len (p_ini)))\n",
    "    sol[0,:]=p_ini\n",
    "    for i in xrange(len(tiempos)-1):\n",
    "        k1=ec(sol[i,:],tiempos[i])\n",
    "        k2=ec(sol[i,:]+0.5*h*k1,tiempos[i]+0.5*h)\n",
    "        k3=ec(sol[i,:]+0.5*h*k2,tiempos[i]+0.5*h)\n",
    "        k4=ec(sol[i,:]+h*k3,tiempos[i]+h)\n",
    "        \n",
    "        sol[i+1,:]=sol[i,:]+(h/6.)*(k1+2*k2+2*k3+k4)\n",
    "        \n",
    "        if sol[i+1,1]<0:\n",
    "            exit\n",
    "        \n",
    "    return tiempos, sol"
   ]
  },
  {
   "cell_type": "code",
   "execution_count": 10,
   "metadata": {},
   "outputs": [],
   "source": [
    "def ec_mov(r_v,t,g=9.8,m=1):\n",
    "    dx=r_v[2]\n",
    "    dy=r_v[3]\n",
    "    \n",
    "    dvx=0\n",
    "    dvy=-(g/m)\n",
    "    \n",
    "    return array ([dx,dy,dvx,dvy])"
   ]
  },
  {
   "cell_type": "code",
   "execution_count": 15,
   "metadata": {
    "collapsed": true
   },
   "outputs": [],
   "source": [
    "def ec_mov_fri(r_v,t,gamma=5,g=9.8,m=1):\n",
    "    dx=r_v[2]\n",
    "    dy=r_v[3]\n",
    "    \n",
    "    dvx=-gamma*r_v[2]\n",
    "    dvy=-gamma*r_v[3]-(g/m)\n",
    "    \n",
    "    return array ([dx,dy,dvx,dvy])"
   ]
  },
  {
   "cell_type": "code",
   "execution_count": 16,
   "metadata": {},
   "outputs": [
    {
     "data": {
      "text/plain": [
       "[<matplotlib.lines.Line2D at 0x8995e80>]"
      ]
     },
     "execution_count": 16,
     "metadata": {},
     "output_type": "execute_result"
    },
    {
     "data": {
      "image/png": "[encoded data removed]",
      "text/plain": [
       "<matplotlib.figure.Figure at 0x5f56d30>"
      ]
     },
     "metadata": {},
     "output_type": "display_data"
    }
   ],
   "source": [
    "p_ini=[0,0,5,5]\n",
    "t,sol=rk4(ec_mov,p_ini,[0,2])\n",
    "plot(sol[:,0],sol[:,1])\n",
    "tf,solf=rk4(ec_mov_fri,p_ini,[0,2])\n",
    "plot(solf[:,0],solf[:,1])"
   ]
  },
  {
   "cell_type": "code",
   "execution_count": null,
   "metadata": {
    "collapsed": true
   },
   "outputs": [],
   "source": []
  }
 ],
 "metadata": {
  "kernelspec": {
   "display_name": "Python 2",
   "language": "python",
   "name": "python2"
  },
  "language_info": {
   "codemirror_mode": {
    "name": "ipython",
    "version": 2
   },
   "file_extension": ".py",
   "mimetype": "text/x-python",
   "name": "python",
   "nbconvert_exporter": "python",
   "pygments_lexer": "ipython2",
   "version": "2.7.13"
  }
 },
 "nbformat": 4,
 "nbformat_minor": 2
}
